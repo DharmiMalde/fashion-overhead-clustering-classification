{
  "nbformat": 4,
  "nbformat_minor": 0,
  "metadata": {
    "colab": {
      "provenance": []
    },
    "kernelspec": {
      "name": "python3",
      "display_name": "Python 3"
    },
    "language_info": {
      "name": "python"
    }
  },
  "cells": [
    {
      "cell_type": "code",
      "source": [
        "# load libraries\n",
        "import tensorflow as tf\n",
        "from sklearn.cluster import KMeans\n",
        "from sklearn.neighbors import NearestNeighbors\n",
        "from scipy.stats import mode\n",
        "import numpy as np"
      ],
      "metadata": {
        "id": "1ADDs7-PCuPH"
      },
      "execution_count": null,
      "outputs": []
    },
    {
      "cell_type": "code",
      "execution_count": null,
      "metadata": {
        "id": "l6Xu52FVB_F4",
        "colab": {
          "base_uri": "https://localhost:8080/"
        },
        "outputId": "32bb773b-305d-4985-e34b-fd7d0869e254"
      },
      "outputs": [
        {
          "output_type": "stream",
          "name": "stdout",
          "text": [
            "Downloading data from https://storage.googleapis.com/tensorflow/tf-keras-datasets/train-labels-idx1-ubyte.gz\n",
            "29515/29515 [==============================] - 0s 0us/step\n",
            "Downloading data from https://storage.googleapis.com/tensorflow/tf-keras-datasets/train-images-idx3-ubyte.gz\n",
            "26421880/26421880 [==============================] - 0s 0us/step\n",
            "Downloading data from https://storage.googleapis.com/tensorflow/tf-keras-datasets/t10k-labels-idx1-ubyte.gz\n",
            "5148/5148 [==============================] - 0s 0us/step\n",
            "Downloading data from https://storage.googleapis.com/tensorflow/tf-keras-datasets/t10k-images-idx3-ubyte.gz\n",
            "4422102/4422102 [==============================] - 0s 0us/step\n"
          ]
        }
      ],
      "source": [
        "# Load the data and train-teat split\n",
        "fashion_mnist = tf.keras.datasets.fashion_mnist.load_data()\n",
        "(X_train, y_train), (X_test, y_test) = fashion_mnist"
      ]
    },
    {
      "cell_type": "code",
      "source": [
        "X_train.shape"
      ],
      "metadata": {
        "id": "8ECIWXxOFXJS",
        "colab": {
          "base_uri": "https://localhost:8080/"
        },
        "outputId": "c4ff5aa3-50cc-4ccf-8e2b-50f17e9e621f"
      },
      "execution_count": null,
      "outputs": [
        {
          "output_type": "execute_result",
          "data": {
            "text/plain": [
              "(60000, 28, 28)"
            ]
          },
          "metadata": {},
          "execution_count": 3
        }
      ]
    },
    {
      "cell_type": "code",
      "source": [
        "# Reshaping the Data set for clusteing\n",
        "X_train = X_train.reshape(60000,784)\n",
        "X_train.shape"
      ],
      "metadata": {
        "id": "UG9gIMo2FHxV",
        "colab": {
          "base_uri": "https://localhost:8080/"
        },
        "outputId": "c1200b93-ca05-4bab-9678-b9573c98991c"
      },
      "execution_count": null,
      "outputs": [
        {
          "output_type": "execute_result",
          "data": {
            "text/plain": [
              "(60000, 784)"
            ]
          },
          "metadata": {},
          "execution_count": 4
        }
      ]
    },
    {
      "cell_type": "code",
      "source": [
        "def new_labels(k,data,labels,p):\n",
        "  Kmeans = KMeans(k,)\n",
        "  Kmeans.fit(data)\n",
        "  cluster_labels = Kmeans.labels_\n",
        "  centroids = Kmeans.cluster_centers_\n",
        "\n",
        "  # Find 10 nearest points for each centroid\n",
        "  num_neighbors = 10\n",
        "  nbrs = NearestNeighbors(n_neighbors=num_neighbors).fit(data)\n",
        "  distances, indices = nbrs.kneighbors(centroids)\n",
        "\n",
        "  # Assign labels to clusters based on mode of 10 nearest points\n",
        "  cluster_labels_mode = []\n",
        "  for i in range(k):\n",
        "      nearest_labels = [ labels[idx] for idx in indices[i] ]\n",
        "      cluster_label_mode = mode(nearest_labels)[0]\n",
        "      cluster_labels_mode.append(cluster_label_mode)\n",
        "\n",
        "  # Finding 40% nearest neighbour\n",
        "  num_neighbors2 = np.ceil(p * len(data) / k).astype(int)\n",
        "  nbrs2 = NearestNeighbors(n_neighbors=num_neighbors2).fit(data)\n",
        "  distances, indices2 = nbrs2.kneighbors(centroids)\n",
        "  indices2 = indices2.reshape(k*num_neighbors2)\n",
        "\n",
        "  # Assign labels to each point in data based on cluster labels mode\n",
        "  new_labels = np.array([cluster_labels_mode[label] for label in cluster_labels])\n",
        "\n",
        "  # cuting to 40% nearest\n",
        "  new_data = data[indices2]\n",
        "  new_labels = new_labels[indices2]\n",
        "  old_labels = labels[indices2]\n",
        "  return new_data, new_labels, old_labels\n",
        "\n",
        "def wrong_labels(y,y_propagated):\n",
        "     num_wrong_labels = np.sum(y_propagated != y)\n",
        "     print('Number of wrong labels after label propagation:', num_wrong_labels)\n"
      ],
      "metadata": {
        "id": "VYGr6qYWCJbo"
      },
      "execution_count": null,
      "outputs": []
    },
    {
      "cell_type": "code",
      "source": [
        "# Checking\n",
        "for i in [50,100,200,300]:\n",
        "  new_X_train, new_y_train, old_y_train = new_labels(i,X_train,y_train,0.4)\n",
        "  new_X_train = new_X_train/255\n",
        "  new_X_train = new_X_train.reshape((24000,28,28))\n",
        "  X_mod = new_X_train[:-5000]\n",
        "  y_mod = new_y_train[:-5000]\n",
        "  X_val, y_val = new_X_train[-5000:], new_y_train[-5000:]\n",
        "\n",
        "  # Train model on new labels\n",
        "  model = tf.keras.Sequential([\n",
        "      tf.keras.layers.Flatten(input_shape=[28, 28]),\n",
        "      tf.keras.layers.Dense(100, activation=\"relu\"),\n",
        "      tf.keras.layers.Dense(50, activation=\"relu\"),\n",
        "      tf.keras.layers.Dense(10, activation=\"softmax\")\n",
        "  ])\n",
        "  model.compile(loss=\"sparse_categorical_crossentropy\",optimizer=\"sgd\",metrics=[\"accuracy\"])\n",
        "\n",
        "  history = model.fit(new_X_train, new_y_train, epochs=10 ,validation_data=(X_val, y_val))\n",
        "\n",
        "  # Evaluate the results\n",
        "  accuracy = model.evaluate(X_test/255, y_test)[1]\n",
        "  print( \"For k = \",i,\" model is giving \", accuracy, \"accuracy\")"
      ],
      "metadata": {
        "colab": {
          "base_uri": "https://localhost:8080/"
        },
        "id": "gjmEQJlrd_0j",
        "outputId": "6ea08f49-07de-4520-e4b1-39bbdd83ff5c"
      },
      "execution_count": null,
      "outputs": [
        {
          "output_type": "stream",
          "name": "stderr",
          "text": [
            "/usr/local/lib/python3.10/dist-packages/sklearn/cluster/_kmeans.py:870: FutureWarning: The default value of `n_init` will change from 10 to 'auto' in 1.4. Set the value of `n_init` explicitly to suppress the warning\n",
            "  warnings.warn(\n"
          ]
        },
        {
          "output_type": "stream",
          "name": "stdout",
          "text": [
            "Epoch 1/10\n",
            "750/750 [==============================] - 3s 4ms/step - loss: 0.6731 - accuracy: 0.7985 - val_loss: 0.3891 - val_accuracy: 0.8524\n",
            "Epoch 2/10\n",
            "750/750 [==============================] - 3s 4ms/step - loss: 0.2980 - accuracy: 0.8908 - val_loss: 0.2803 - val_accuracy: 0.8950\n",
            "Epoch 3/10\n",
            "750/750 [==============================] - 4s 6ms/step - loss: 0.2376 - accuracy: 0.9103 - val_loss: 0.1989 - val_accuracy: 0.9254\n",
            "Epoch 4/10\n",
            "750/750 [==============================] - 2s 3ms/step - loss: 0.2108 - accuracy: 0.9183 - val_loss: 0.2129 - val_accuracy: 0.9150\n",
            "Epoch 5/10\n",
            "750/750 [==============================] - 2s 3ms/step - loss: 0.1946 - accuracy: 0.9220 - val_loss: 0.2422 - val_accuracy: 0.8956\n",
            "Epoch 6/10\n",
            "750/750 [==============================] - 2s 3ms/step - loss: 0.1830 - accuracy: 0.9270 - val_loss: 0.2683 - val_accuracy: 0.8766\n",
            "Epoch 7/10\n",
            "750/750 [==============================] - 2s 3ms/step - loss: 0.1744 - accuracy: 0.9300 - val_loss: 0.2148 - val_accuracy: 0.9080\n",
            "Epoch 8/10\n",
            "750/750 [==============================] - 4s 5ms/step - loss: 0.1683 - accuracy: 0.9315 - val_loss: 0.1940 - val_accuracy: 0.9172\n",
            "Epoch 9/10\n",
            "750/750 [==============================] - 2s 3ms/step - loss: 0.1614 - accuracy: 0.9337 - val_loss: 0.1781 - val_accuracy: 0.9242\n",
            "Epoch 10/10\n",
            "750/750 [==============================] - 2s 3ms/step - loss: 0.1564 - accuracy: 0.9352 - val_loss: 0.1743 - val_accuracy: 0.9246\n",
            "313/313 [==============================] - 1s 2ms/step - loss: 1.8720 - accuracy: 0.6647\n",
            "For k =  50  model is giving  0.6646999716758728 accuracy\n"
          ]
        },
        {
          "output_type": "stream",
          "name": "stderr",
          "text": [
            "/usr/local/lib/python3.10/dist-packages/sklearn/cluster/_kmeans.py:870: FutureWarning: The default value of `n_init` will change from 10 to 'auto' in 1.4. Set the value of `n_init` explicitly to suppress the warning\n",
            "  warnings.warn(\n"
          ]
        },
        {
          "output_type": "stream",
          "name": "stdout",
          "text": [
            "Epoch 1/10\n",
            "750/750 [==============================] - 3s 4ms/step - loss: 0.7578 - accuracy: 0.7788 - val_loss: 0.3851 - val_accuracy: 0.8494\n",
            "Epoch 2/10\n",
            "750/750 [==============================] - 2s 3ms/step - loss: 0.3225 - accuracy: 0.8877 - val_loss: 0.2757 - val_accuracy: 0.9108\n",
            "Epoch 3/10\n",
            "750/750 [==============================] - 4s 5ms/step - loss: 0.2513 - accuracy: 0.9119 - val_loss: 0.2107 - val_accuracy: 0.9262\n",
            "Epoch 4/10\n",
            "750/750 [==============================] - 2s 3ms/step - loss: 0.2192 - accuracy: 0.9202 - val_loss: 0.1995 - val_accuracy: 0.9274\n",
            "Epoch 5/10\n",
            "750/750 [==============================] - 2s 3ms/step - loss: 0.2001 - accuracy: 0.9256 - val_loss: 0.1671 - val_accuracy: 0.9392\n",
            "Epoch 6/10\n",
            "750/750 [==============================] - 3s 3ms/step - loss: 0.1872 - accuracy: 0.9301 - val_loss: 0.1669 - val_accuracy: 0.9386\n",
            "Epoch 7/10\n",
            "750/750 [==============================] - 2s 3ms/step - loss: 0.1782 - accuracy: 0.9320 - val_loss: 0.1627 - val_accuracy: 0.9416\n",
            "Epoch 8/10\n",
            "750/750 [==============================] - 3s 4ms/step - loss: 0.1696 - accuracy: 0.9354 - val_loss: 0.1491 - val_accuracy: 0.9466\n",
            "Epoch 9/10\n",
            "750/750 [==============================] - 3s 3ms/step - loss: 0.1633 - accuracy: 0.9376 - val_loss: 0.1595 - val_accuracy: 0.9382\n",
            "Epoch 10/10\n",
            "750/750 [==============================] - 2s 3ms/step - loss: 0.1577 - accuracy: 0.9407 - val_loss: 0.1476 - val_accuracy: 0.9446\n",
            "313/313 [==============================] - 1s 2ms/step - loss: 1.1162 - accuracy: 0.7347\n",
            "For k =  100  model is giving  0.7347000241279602 accuracy\n"
          ]
        },
        {
          "output_type": "stream",
          "name": "stderr",
          "text": [
            "/usr/local/lib/python3.10/dist-packages/sklearn/cluster/_kmeans.py:870: FutureWarning: The default value of `n_init` will change from 10 to 'auto' in 1.4. Set the value of `n_init` explicitly to suppress the warning\n",
            "  warnings.warn(\n"
          ]
        },
        {
          "output_type": "stream",
          "name": "stdout",
          "text": [
            "Epoch 1/10\n",
            "750/750 [==============================] - 3s 4ms/step - loss: 0.8472 - accuracy: 0.7325 - val_loss: 0.5620 - val_accuracy: 0.7820\n",
            "Epoch 2/10\n",
            "750/750 [==============================] - 3s 4ms/step - loss: 0.4297 - accuracy: 0.8488 - val_loss: 0.3653 - val_accuracy: 0.8596\n",
            "Epoch 3/10\n",
            "750/750 [==============================] - 4s 5ms/step - loss: 0.3486 - accuracy: 0.8740 - val_loss: 0.3096 - val_accuracy: 0.8824\n",
            "Epoch 4/10\n",
            "750/750 [==============================] - 3s 3ms/step - loss: 0.3105 - accuracy: 0.8864 - val_loss: 0.2673 - val_accuracy: 0.9014\n",
            "Epoch 5/10\n",
            "750/750 [==============================] - 2s 3ms/step - loss: 0.2869 - accuracy: 0.8926 - val_loss: 0.2503 - val_accuracy: 0.9006\n",
            "Epoch 6/10\n",
            "750/750 [==============================] - 2s 3ms/step - loss: 0.2661 - accuracy: 0.8980 - val_loss: 0.2453 - val_accuracy: 0.9020\n",
            "Epoch 7/10\n",
            "750/750 [==============================] - 3s 4ms/step - loss: 0.2541 - accuracy: 0.9033 - val_loss: 0.2308 - val_accuracy: 0.9096\n",
            "Epoch 8/10\n",
            "750/750 [==============================] - 3s 5ms/step - loss: 0.2432 - accuracy: 0.9066 - val_loss: 0.2148 - val_accuracy: 0.9160\n",
            "Epoch 9/10\n",
            "750/750 [==============================] - 2s 3ms/step - loss: 0.2343 - accuracy: 0.9080 - val_loss: 0.2441 - val_accuracy: 0.9082\n",
            "Epoch 10/10\n",
            "750/750 [==============================] - 2s 3ms/step - loss: 0.2259 - accuracy: 0.9118 - val_loss: 0.1986 - val_accuracy: 0.9246\n",
            "313/313 [==============================] - 1s 2ms/step - loss: 0.8098 - accuracy: 0.7611\n",
            "For k =  200  model is giving  0.7610999941825867 accuracy\n"
          ]
        },
        {
          "output_type": "stream",
          "name": "stderr",
          "text": [
            "/usr/local/lib/python3.10/dist-packages/sklearn/cluster/_kmeans.py:870: FutureWarning: The default value of `n_init` will change from 10 to 'auto' in 1.4. Set the value of `n_init` explicitly to suppress the warning\n",
            "  warnings.warn(\n"
          ]
        },
        {
          "output_type": "stream",
          "name": "stdout",
          "text": [
            "Epoch 1/10\n",
            "750/750 [==============================] - 4s 5ms/step - loss: 0.8406 - accuracy: 0.7523 - val_loss: 0.4881 - val_accuracy: 0.8358\n",
            "Epoch 2/10\n",
            "750/750 [==============================] - 3s 4ms/step - loss: 0.3815 - accuracy: 0.8763 - val_loss: 0.3729 - val_accuracy: 0.8894\n",
            "Epoch 3/10\n",
            "750/750 [==============================] - 2s 3ms/step - loss: 0.3083 - accuracy: 0.8940 - val_loss: 0.3202 - val_accuracy: 0.8908\n",
            "Epoch 4/10\n",
            "750/750 [==============================] - 3s 3ms/step - loss: 0.2754 - accuracy: 0.9018 - val_loss: 0.2833 - val_accuracy: 0.9024\n",
            "Epoch 5/10\n",
            "750/750 [==============================] - 3s 4ms/step - loss: 0.2557 - accuracy: 0.9067 - val_loss: 0.2664 - val_accuracy: 0.9062\n",
            "Epoch 6/10\n",
            "750/750 [==============================] - 3s 4ms/step - loss: 0.2393 - accuracy: 0.9128 - val_loss: 0.2485 - val_accuracy: 0.9100\n",
            "Epoch 7/10\n",
            "750/750 [==============================] - 3s 3ms/step - loss: 0.2284 - accuracy: 0.9151 - val_loss: 0.2195 - val_accuracy: 0.9176\n",
            "Epoch 8/10\n",
            "750/750 [==============================] - 2s 3ms/step - loss: 0.2196 - accuracy: 0.9202 - val_loss: 0.2431 - val_accuracy: 0.9088\n",
            "Epoch 9/10\n",
            "750/750 [==============================] - 3s 3ms/step - loss: 0.2122 - accuracy: 0.9209 - val_loss: 0.2012 - val_accuracy: 0.9232\n",
            "Epoch 10/10\n",
            "750/750 [==============================] - 3s 5ms/step - loss: 0.2049 - accuracy: 0.9230 - val_loss: 0.2033 - val_accuracy: 0.9246\n",
            "313/313 [==============================] - 1s 2ms/step - loss: 0.7550 - accuracy: 0.7833\n",
            "For k =  300  model is giving  0.78329998254776 accuracy\n"
          ]
        }
      ]
    }
  ]
}